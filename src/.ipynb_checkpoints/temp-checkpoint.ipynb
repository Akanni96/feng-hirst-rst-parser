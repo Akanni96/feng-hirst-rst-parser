{
 "cells": [
  {
   "cell_type": "code",
   "execution_count": 1,
   "metadata": {},
   "outputs": [],
   "source": [
    "import parser_wrapper2\n",
    "li_utterances = [\"It people find offensive although it is the only singular neuter pronoun in our language. In that case I think there is like some zim/zer or another neutral set people have proposed. When it comes to this sun or water stuff do what you want. Just know that anybody who acts like your a bigot for not saying sunself or whatever made up crap people want is just being an asshole.\", \"Yeah but then you have the problem of just clustering everyone who does not identify as him/her as an ‘other’\", \"Same to you! I appreciate the good-faith response, some of the responses here seem a bit hostile. Perhaps they assumed I was acting in bad faith making this post, which is understandable, as these types of posts sometimes are in bad faith.\"]"
   ]
  },
  {
   "cell_type": "code",
   "execution_count": 2,
   "metadata": {},
   "outputs": [
    {
     "name": "stderr",
     "output_type": "stream",
     "text": [
      "Traceback (most recent call last):\n",
      "  File \"c:\\Users\\Rilwa\\01_Mcv\\MasteringConversation\\rl_conv\\pretrain\\RST_FH\\src\\parse2.py\", line 98, in parse\n",
      "    doc.preprocess(utterance, self.preprocesser)\n",
      "  File \"c:\\Users\\Rilwa\\01_Mcv\\MasteringConversation\\rl_conv\\pretrain\\RST_FH\\src\\document\\doc.py\", line 36, in preprocess\n",
      "    preprocesser.preprocess(raw_filename, self)\n",
      "  File \"c:\\Users\\Rilwa\\01_Mcv\\MasteringConversation\\rl_conv\\pretrain\\RST_FH\\src\\prep\\preprocesser2.py\", line 152, in preprocess\n",
      "    self.sentence_splitting(str_utt, doc)\n",
      "  File \"c:\\Users\\Rilwa\\01_Mcv\\MasteringConversation\\rl_conv\\pretrain\\RST_FH\\src\\prep\\preprocesser2.py\", line 141, in sentence_splitting\n",
      "    raise NameError(\"*** Sentence splitter crashed, with trace %s...\" % errdata)\n",
      "NameError: *** Sentence splitter crashed, with trace b'Cannot open It: No such file or directory at c:\\\\Users\\\\Rilwa\\\\01_Mcv\\\\MasteringConversation\\\\rl_conv\\\\pretrain\\\\RST_FH\\\\tools/CCGSsplitter//boundary2.pl line 36, <HONORIFICS> line 83.\\r\\n'...\n",
      "Traceback (most recent call last):\n",
      "  File \"c:\\Users\\Rilwa\\01_Mcv\\MasteringConversation\\rl_conv\\pretrain\\RST_FH\\src\\parse2.py\", line 98, in parse\n",
      "    doc.preprocess(utterance, self.preprocesser)\n",
      "  File \"c:\\Users\\Rilwa\\01_Mcv\\MasteringConversation\\rl_conv\\pretrain\\RST_FH\\src\\document\\doc.py\", line 36, in preprocess\n",
      "    preprocesser.preprocess(raw_filename, self)\n",
      "  File \"c:\\Users\\Rilwa\\01_Mcv\\MasteringConversation\\rl_conv\\pretrain\\RST_FH\\src\\prep\\preprocesser2.py\", line 152, in preprocess\n",
      "    self.sentence_splitting(str_utt, doc)\n",
      "  File \"c:\\Users\\Rilwa\\01_Mcv\\MasteringConversation\\rl_conv\\pretrain\\RST_FH\\src\\prep\\preprocesser2.py\", line 141, in sentence_splitting\n",
      "    raise NameError(\"*** Sentence splitter crashed, with trace %s...\" % errdata)\n",
      "NameError: *** Sentence splitter crashed, with trace b'Cannot open Yeah: No such file or directory at c:\\\\Users\\\\Rilwa\\\\01_Mcv\\\\MasteringConversation\\\\rl_conv\\\\pretrain\\\\RST_FH\\\\tools/CCGSsplitter//boundary2.pl line 36, <HONORIFICS> line 83.\\r\\n'...\n",
      "Traceback (most recent call last):\n",
      "  File \"c:\\Users\\Rilwa\\01_Mcv\\MasteringConversation\\rl_conv\\pretrain\\RST_FH\\src\\parse2.py\", line 98, in parse\n",
      "    doc.preprocess(utterance, self.preprocesser)\n",
      "  File \"c:\\Users\\Rilwa\\01_Mcv\\MasteringConversation\\rl_conv\\pretrain\\RST_FH\\src\\document\\doc.py\", line 36, in preprocess\n",
      "    preprocesser.preprocess(raw_filename, self)\n",
      "  File \"c:\\Users\\Rilwa\\01_Mcv\\MasteringConversation\\rl_conv\\pretrain\\RST_FH\\src\\prep\\preprocesser2.py\", line 152, in preprocess\n",
      "    self.sentence_splitting(str_utt, doc)\n",
      "  File \"c:\\Users\\Rilwa\\01_Mcv\\MasteringConversation\\rl_conv\\pretrain\\RST_FH\\src\\prep\\preprocesser2.py\", line 141, in sentence_splitting\n",
      "    raise NameError(\"*** Sentence splitter crashed, with trace %s...\" % errdata)\n",
      "NameError: *** Sentence splitter crashed, with trace b'Cannot open Same: No such file or directory at c:\\\\Users\\\\Rilwa\\\\01_Mcv\\\\MasteringConversation\\\\rl_conv\\\\pretrain\\\\RST_FH\\\\tools/CCGSsplitter//boundary2.pl line 36, <HONORIFICS> line 83.\\r\\n'...\n"
     ]
    },
    {
     "ename": "TypeError",
     "evalue": "'int' object is not callable",
     "output_type": "error",
     "traceback": [
      "\u001b[1;31m---------------------------------------------------------------------------\u001b[0m",
      "\u001b[1;31mTypeError\u001b[0m                                 Traceback (most recent call last)",
      "\u001b[1;32m<ipython-input-2-af6c7a7b38bb>\u001b[0m in \u001b[0;36m<module>\u001b[1;34m\u001b[0m\n\u001b[1;32m----> 1\u001b[1;33m \u001b[0mparser_wrapper2\u001b[0m\u001b[1;33m.\u001b[0m\u001b[0mmain\u001b[0m\u001b[1;33m(\u001b[0m\u001b[0mli_utterances\u001b[0m\u001b[1;33m)\u001b[0m\u001b[1;33m\u001b[0m\u001b[1;33m\u001b[0m\u001b[0m\n\u001b[0m",
      "\u001b[1;32mc:\\Users\\Rilwa\\01_Mcv\\MasteringConversation\\rl_conv\\pretrain\\RST_FH\\src\\parser_wrapper2.py\u001b[0m in \u001b[0;36mmain\u001b[1;34m(li_utterances, verbose, skip_parsing, global_features, logging)\u001b[0m\n\u001b[0;32m     80\u001b[0m         \u001b[0mresults\u001b[0m \u001b[1;33m=\u001b[0m \u001b[0mfeng_main\u001b[0m\u001b[1;33m(\u001b[0m\u001b[0mli_utterances\u001b[0m\u001b[1;33m,\u001b[0m \u001b[1;33m**\u001b[0m\u001b[0margs\u001b[0m\u001b[1;33m)\u001b[0m \u001b[1;31m#li of parse trees\u001b[0m\u001b[1;33m\u001b[0m\u001b[1;33m\u001b[0m\u001b[0m\n\u001b[0;32m     81\u001b[0m \u001b[1;33m\u001b[0m\u001b[0m\n\u001b[1;32m---> 82\u001b[1;33m         \u001b[1;32massert\u001b[0m \u001b[0mlen\u001b[0m\u001b[1;33m(\u001b[0m\u001b[0mresults\u001b[0m\u001b[1;33m)\u001b[0m \u001b[1;33m!=\u001b[0m \u001b[1;36m0\u001b[0m\u001b[0;31m \u001b[0m\u001b[0;31m \u001b[0m\u001b[0;31m\\\u001b[0m\u001b[1;33m\u001b[0m\u001b[1;33m\u001b[0m\u001b[0m\n\u001b[0m\u001b[0;32m     83\u001b[0m             (\"Expected parse trees as a result, but got: {0}.\\n\"\n\u001b[0;32m     84\u001b[0m              \u001b[1;34m\"Parser STDOUT was:\\n{1}\"\u001b[0m\u001b[1;33m)\u001b[0m\u001b[1;33m.\u001b[0m\u001b[0mformat\u001b[0m\u001b[1;33m(\u001b[0m\u001b[1;33m\u001b[0m\u001b[1;33m\u001b[0m\u001b[0m\n",
      "\u001b[1;31mTypeError\u001b[0m: 'int' object is not callable"
     ]
    }
   ],
   "source": [
    "parser_wrapper2.main(li_utterances)"
   ]
  }
 ],
 "metadata": {
  "kernelspec": {
   "display_name": "mconv",
   "language": "python",
   "name": "mconv"
  },
  "language_info": {
   "codemirror_mode": {
    "name": "ipython",
    "version": 3
   },
   "file_extension": ".py",
   "mimetype": "text/x-python",
   "name": "python",
   "nbconvert_exporter": "python",
   "pygments_lexer": "ipython3",
   "version": "3.8.3"
  }
 },
 "nbformat": 4,
 "nbformat_minor": 2
}
