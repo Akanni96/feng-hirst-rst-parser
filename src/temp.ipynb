{
 "cells": [
  {
   "cell_type": "code",
   "execution_count": 257,
   "metadata": {
    "ExecuteTime": {
     "end_time": "2020-12-05T12:51:01.473481Z",
     "start_time": "2020-12-05T12:51:01.457577Z"
    }
   },
   "outputs": [
    {
     "data": {
      "text/plain": [
       "True"
      ]
     },
     "execution_count": 257,
     "metadata": {},
     "output_type": "execute_result"
    }
   ],
   "source": [
    "bool(\"False\")"
   ]
  },
  {
   "cell_type": "code",
   "execution_count": 254,
   "metadata": {
    "ExecuteTime": {
     "end_time": "2020-12-05T09:37:54.406501Z",
     "start_time": "2020-12-05T09:37:49.441863Z"
    }
   },
   "outputs": [
    {
     "data": {
      "text/html": [
       "<style>.container { width:100%RR !important; }</style>"
      ],
      "text/plain": [
       "<IPython.core.display.HTML object>"
      ]
     },
     "metadata": {},
     "output_type": "display_data"
    },
    {
     "name": "stdout",
     "output_type": "stream",
     "text": [
      "Added classifier classifier1 to segmenter gCRF\n",
      "Added classifier classifier2 to segmenter gCRF\n",
      "Added feature writer to treebuilder\n",
      "Added classifier bin1 to treebuilder gCRF\n",
      "Added classifier mc1 to treebuilder gCRF\n",
      "Added classifier bin2 to treebuilder gCRF\n",
      "Added classifier mc2 to treebuilder gCRF\n",
      "Finished initialization in 3.07 seconds.\n",
      "\n",
      "Processing 1 utterances\n",
      "Parsing utterance (0 out of 1)\n",
      "[(b'Some people find offensive although it is the only singular neuter pronoun in our language.\\r', False), (b'In that case I think there is like some zim/zer or another neutral set people have proposed.\\r', False), (b'When it comes to this sun or water stuff do what you want.\\r', False), (b'Just know that anybody who acts like your a bigot for not saying sunself or whatever made up crap people want is just being an asshole.', True)]\n",
      "Processing segment 0 out of 4\n",
      "Finished preprocessing in 1.80 seconds.\n",
      "\n",
      "*** Segmentation failed ***\n",
      "None\n",
      "Some error occurred, when parsing utterance 0\n",
      "Successfully unloaded syntax parser\n"
     ]
    },
    {
     "name": "stderr",
     "output_type": "stream",
     "text": [
      "Traceback (most recent call last):\n",
      "  File \"C:\\Users\\Rilwa\\01_Mcv\\MasteringConversation\\rl_conv\\pretrain\\RST_FH\\src\\parse2.py\", line 119, in parse\n",
      "    self.segmenter.segment(doc)\n",
      "  File \"C:\\Users\\Rilwa\\01_Mcv\\MasteringConversation\\rl_conv\\pretrain\\RST_FH\\src\\segmenters\\crf_segmenter.py\", line 278, in segment\n",
      "    self.segment_sentence(sentence)\n",
      "  File \"C:\\Users\\Rilwa\\01_Mcv\\MasteringConversation\\rl_conv\\pretrain\\RST_FH\\src\\segmenters\\crf_segmenter.py\", line 175, in segment_sentence\n",
      "    seq_prob, predictions = self.classifier.classify(features)\n",
      "  File \"C:\\Users\\Rilwa\\01_Mcv\\MasteringConversation\\rl_conv\\pretrain\\RST_FH\\src\\classifiers\\crf_classifier.py\", line 46, in classify\n",
      "    list of predition tuples (label, probability)\n",
      "OSError: [Errno 22] Invalid argument\n"
     ]
    },
    {
     "data": {
      "text/plain": [
       "[None]"
      ]
     },
     "execution_count": 254,
     "metadata": {},
     "output_type": "execute_result"
    }
   ],
   "source": [
    "from IPython.core.display import display, HTML\n",
    "display(HTML(\"<style>.container { width:100%RR !important; }</style>\"))\n",
    "\n",
    "import parser_wrapper2\n",
    "\n",
    "li_utterances = [\"Some people find offensive although it is the only singular neuter pronoun in our language. In that case I think there is like some zim/zer or another neutral set people have proposed. When it comes to this sun or water stuff do what you want. Just know that anybody who acts like your a bigot for not saying sunself or whatever made up crap people want is just being an asshole.\"]\n",
    "\n",
    "parser_wrapper2.main(li_utterances, logging=True, redirect_output=False)"
   ]
  },
  {
   "cell_type": "code",
   "execution_count": 251,
   "metadata": {
    "ExecuteTime": {
     "end_time": "2020-12-05T09:20:13.327926Z",
     "start_time": "2020-12-05T09:20:13.255503Z"
    }
   },
   "outputs": [],
   "source": [
    "import subprocess\n",
    "import paths\n",
    "import json\n",
    "import os.path\n",
    "classifier_cmd = [os.path.abspath('C:\\\\Users\\\\Rilwa\\\\01_Mcv\\\\MasteringConversation\\\\rl_conv\\\\pretrain\\\\RST_FH\\\\tools/crfsuite//crfsuite-stdin'),\n",
    "                     'tag', '-pi', '-m', \n",
    "                      'C:\\\\Users\\\\Rilwa\\\\01_Mcv\\\\MasteringConversation\\\\rl_conv\\\\pretrain\\\\RST_FH\\\\model/seg_set_CRF/seg.crfsuite -']\n",
    "\n",
    "classifier = subprocess.Popen(classifier_cmd, shell = True, stdin = subprocess.PIPE, \n",
    "                                stdout = subprocess.PIPE, stderr = subprocess.PIPE,\n",
    "                                bufsize = io.DEFAULT_BUFFER_SIZE*5 )\n",
    "#classifier = subprocess.Popen(classifier_cmd, shell = True, stdin = subprocess.PIPE, stdout = None, stderr = None)\n",
    "vectors = json.loads('[\"0\\\\tLargest_Subtree_Top_Tag=NP_Unit=1@2\\\\tLargest_Subtree_Depth=3_Unit=2@1\\\\tWord=some_Unit1@1\\\\tWord=find_Unit2@2\\\\tLargest_Subtree_Top_Tag=VP_Unit=2@2\\\\tPoS=NNS_Unit1@2\\\\tWord=people_Unit1@2\\\\tIs_Sentence_Begin_Unit1@1\\\\tPoS=VBP_Unit2@2\\\\tWord=people_Unit2@1\\\\tLargest_Subtree_Production=NP->DT#NNS_Unit=1@2\\\\tLargest_Subtree_Production=DT->Some_Unit=1@1\\\\tLargest_Subtree_Production=NNS->people_Unit=2@1\\\\tLargest_Subtree_Production=VP->VBP#ADJP_Unit=2@2\\\\tLargest_Subtree_Top_Tag=DT_Unit=1@1\\\\tLargest_Subtree_Depth=2_Unit=1@2\\\\tLargest_Subtree_Top_Tag=NNS_Unit=2@1\\\\tLargest_Subtree_Depth=2_Unit=2@2\\\\tPoS=DT_Unit1@1\\\\tLargest_Subtree_Depth=3_Unit=1@1\\\\tPoS=NNS_Unit2@1\", \"0\\\\tLargest_Subtree_Top_Tag=NNS_Unit=2@0\\\\tWord=offensive_Unit2@2\\\\tPoS=NNS_Unit1@1\\\\tLargest_Subtree_Depth=3_Unit=1@0\\\\tIs_Sentence_Begin_Unit1@0\\\\tLargest_Subtree_Production=VBP->find_Unit=1@2\\\\tWord=people_Unit2@0\\\\tLargest_Subtree_Production=ADJP->JJ#SBAR_Unit=2@2\\\\tLargest_Subtree_Depth=3_Unit=2@0\\\\tWord=find_Unit1@2\\\\tLargest_Subtree_Depth=2_Unit=1@1\\\\tLargest_Subtree_Depth=2_Unit=2@1\\\\tLargest_Subtree_Top_Tag=VP_Unit=2@1\\\\tPoS=DT_Unit1@0\\\\tLargest_Subtree_Depth=3_Unit=2@2\\\\tLargest_Subtree_Top_Tag=VBP_Unit=1@2\\\\tWord=find_Unit2@1\\\\tPoS=VBP_Unit1@2\\\\tLargest_Subtree_Production=NNS->people_Unit=2@0\\\\tPoS=VBP_Unit2@1\\\\tLargest_Subtree_Production=VP->VBP#ADJP_Unit=2@1\\\\tWord=people_Unit1@1\\\\tLargest_Subtree_Depth=3_Unit=1@2\\\\tLargest_Subtree_Top_Tag=ADJP_Unit=2@2\\\\tWord=some_Unit1@0\\\\tLargest_Subtree_Top_Tag=NP_Unit=1@1\\\\tLargest_Subtree_Top_Tag=DT_Unit=1@0\\\\tLargest_Subtree_Production=DT->Some_Unit=1@0\\\\tPoS=JJ_Unit2@2\\\\tLargest_Subtree_Production=NP->DT#NNS_Unit=1@1\\\\tPoS=NNS_Unit2@0\", \"0\\\\tWord=find_Unit1@1\\\\tPoS=NNS_Unit1@0\\\\tPoS=JJ_Unit2@1\\\\tPoS=VBP_Unit2@0\\\\tLargest_Subtree_Depth=2_Unit=2@0\\\\tLargest_Subtree_Depth=3_Unit=2@1\\\\tLargest_Subtree_Production=SBAR->IN#S_Unit=2@2\\\\tWord=find_Unit2@0\\\\tLargest_Subtree_Top_Tag=NP_Unit=1@0\\\\tWord=offensive_Unit2@1\\\\tLargest_Subtree_Production=JJ->offensive_Unit=1@2\\\\tLargest_Subtree_Production=VP->VBP#ADJP_Unit=2@0\\\\tLargest_Subtree_Production=VBP->find_Unit=1@1\\\\tWord=although_Unit2@2\\\\tLargest_Subtree_Top_Tag=JJ_Unit=1@2\\\\tLargest_Subtree_Depth=4_Unit=1@2\\\\tLargest_Subtree_Depth=2_Unit=1@0\\\\tLargest_Subtree_Top_Tag=SBAR_Unit=2@2\\\\tPoS=VBP_Unit1@1\\\\tLargest_Subtree_Top_Tag=ADJP_Unit=2@1\\\\tWord=people_Unit1@0\\\\tLargest_Subtree_Top_Tag=VP_Unit=2@0\\\\tLargest_Subtree_Production=ADJP->JJ#SBAR_Unit=2@1\\\\tLargest_Subtree_Production=NP->DT#NNS_Unit=1@0\\\\tPoS=JJ_Unit1@2\\\\tLargest_Subtree_Depth=4_Unit=2@2\\\\tLargest_Subtree_Top_Tag=VBP_Unit=1@1\\\\tLargest_Subtree_Depth=3_Unit=1@1\\\\tWord=offensive_Unit1@2\\\\tPoS=IN_Unit2@2\", \"0\\\\tLargest_Subtree_Top_Tag=VBP_Unit=1@0\\\\tWord=it_Unit2@2\\\\tLargest_Subtree_Depth=3_Unit=1@0\\\\tWord=find_Unit1@0\\\\tLargest_Subtree_Top_Tag=SBAR_Unit=2@1\\\\tLargest_Subtree_Production=IN->although_Unit=1@2\\\\tLargest_Subtree_Top_Tag=S_Unit=2@2\\\\tWord=although_Unit2@1\\\\tPoS=PRP_Unit2@2\\\\tWord=offensive_Unit2@0\\\\tLargest_Subtree_Production=SBAR->IN#S_Unit=2@1\\\\tWord=offensive_Unit1@1\\\\tLargest_Subtree_Top_Tag=ADJP_Unit=2@0\\\\tLargest_Subtree_Production=VBP->find_Unit=1@0\\\\tLargest_Subtree_Production=S->NP#VP_Unit=2@2\\\\tLargest_Subtree_Depth=3_Unit=2@0\\\\tLargest_Subtree_Top_Tag=JJ_Unit=1@1\\\\tLargest_Subtree_Depth=5_Unit=2@2\\\\tPoS=IN_Unit1@2\\\\tLargest_Subtree_Depth=4_Unit=2@1\\\\tWord=although_Unit1@2\\\\tPoS=JJ_Unit1@1\\\\tPoS=IN_Unit2@1\\\\tLargest_Subtree_Depth=5_Unit=1@2\\\\tPoS=JJ_Unit2@0\\\\tLargest_Subtree_Production=JJ->offensive_Unit=1@1\\\\tLargest_Subtree_Production=ADJP->JJ#SBAR_Unit=2@0\\\\tLargest_Subtree_Depth=4_Unit=1@1\\\\tPoS=VBP_Unit1@0\\\\tLargest_Subtree_Top_Tag=IN_Unit=1@2\", \"0\\\\tWord=it_Unit2@1\\\\tPoS=IN_Unit2@0\\\\tLargest_Subtree_Depth=6_Unit=1@2\\\\tWord=although_Unit1@1\\\\tLargest_Subtree_Top_Tag=NP_Unit=1@2\\\\tPoS=PRP_Unit2@1\\\\tPoS=JJ_Unit1@0\\\\tLargest_Subtree_Production=SBAR->IN#S_Unit=2@0\\\\tLargest_Subtree_Top_Tag=S_Unit=2@1\\\\tPoS=PRP_Unit1@2\\\\tLargest_Subtree_Production=VP->VBZ#NP_Unit=2@2\\\\tLargest_Subtree_Top_Tag=VP_Unit=2@2\\\\tLargest_Subtree_Depth=6_Unit=2@2\\\\tPoS=IN_Unit1@1\\\\tLargest_Subtree_Production=JJ->offensive_Unit=1@0\\\\tLargest_Subtree_Depth=5_Unit=1@1\\\\tWord=is_Unit2@2\\\\tWord=offensive_Unit1@0\\\\tLargest_Subtree_Production=S->NP#VP_Unit=2@1\\\\tLargest_Subtree_Production=IN->although_Unit=1@1\\\\tLargest_Subtree_Production=NP->PRP_Unit=1@2\\\\tLargest_Subtree_Top_Tag=JJ_Unit=1@0\\\\tLargest_Subtree_Top_Tag=SBAR_Unit=2@0\\\\tLargest_Subtree_Depth=4_Unit=2@0\\\\tLargest_Subtree_Depth=4_Unit=1@0\\\\tLargest_Subtree_Top_Tag=IN_Unit=1@1\\\\tLargest_Subtree_Depth=5_Unit=2@1\\\\tWord=it_Unit1@2\\\\tWord=although_Unit2@0\\\\tPoS=VBZ_Unit2@2\", \"0\\\\tPoS=VBZ_Unit1@2\\\\tLargest_Subtree_Top_Tag=VBZ_Unit=1@2\\\\tLargest_Subtree_Depth=6_Unit=1@1\\\\tLargest_Subtree_Top_Tag=S_Unit=2@0\\\\tLargest_Subtree_Production=VP->VBZ#NP_Unit=2@1\\\\tWord=is_Unit2@1\\\\tLargest_Subtree_Production=S->NP#VP_Unit=2@0\\\\tPoS=VBZ_Unit2@1\\\\tLargest_Subtree_Production=NP->PRP_Unit=1@1\\\\tLargest_Subtree_Top_Tag=VP_Unit=2@1\\\\tLargest_Subtree_Top_Tag=NP_Unit=2@2\\\\tPoS=IN_Unit1@0\\\\tLargest_Subtree_Depth=5_Unit=1@0\\\\tWord=although_Unit1@0\\\\tLargest_Subtree_Top_Tag=IN_Unit=1@0\\\\tLargest_Subtree_Production=IN->although_Unit=1@0\\\\tPoS=DT_Unit2@2\\\\tPoS=PRP_Unit1@1\\\\tLargest_Subtree_Depth=7_Unit=1@2\\\\tLargest_Subtree_Depth=6_Unit=2@1\\\\tWord=it_Unit2@0\\\\tLargest_Subtree_Production=NP->NP#PP_Unit=2@2\\\\tWord=is_Unit1@2\\\\tLargest_Subtree_Top_Tag=NP_Unit=1@1\\\\tWord=the_Unit2@2\\\\tLargest_Subtree_Depth=5_Unit=2@0\\\\tWord=it_Unit1@1\\\\tPoS=PRP_Unit2@0\\\\tLargest_Subtree_Production=VBZ->is_Unit=1@2\\\\tLargest_Subtree_Depth=7_Unit=2@2\", \"0\\\\tPoS=VBZ_Unit1@1\\\\tLargest_Subtree_Top_Tag=JJ_Unit=2@2\\\\tLargest_Subtree_Depth=9_Unit=2@2\\\\tLargest_Subtree_Depth=9_Unit=1@2\\\\tLargest_Subtree_Production=NP->PRP_Unit=1@0\\\\tLargest_Subtree_Top_Tag=DT_Unit=1@2\\\\tLargest_Subtree_Depth=6_Unit=2@0\\\\tWord=it_Unit1@0\\\\tWord=only_Unit2@2\\\\tLargest_Subtree_Top_Tag=NP_Unit=1@0\\\\tWord=is_Unit2@0\\\\tLargest_Subtree_Depth=7_Unit=2@1\\\\tLargest_Subtree_Top_Tag=NP_Unit=2@1\\\\tWord=is_Unit1@1\\\\tLargest_Subtree_Production=NP->NP#PP_Unit=2@1\\\\tLargest_Subtree_Production=DT->the_Unit=1@2\\\\tWord=the_Unit1@2\\\\tWord=the_Unit2@1\\\\tLargest_Subtree_Production=VBZ->is_Unit=1@1\\\\tLargest_Subtree_Top_Tag=VP_Unit=2@0\\\\tLargest_Subtree_Production=VP->VBZ#NP_Unit=2@0\\\\tLargest_Subtree_Depth=7_Unit=1@1\\\\tLargest_Subtree_Depth=6_Unit=1@0\\\\tLargest_Subtree_Top_Tag=VBZ_Unit=1@1\\\\tPoS=DT_Unit2@1\\\\tLargest_Subtree_Production=JJ->only_Unit=2@2\\\\tPoS=JJ_Unit2@2\\\\tPoS=VBZ_Unit2@0\\\\tPoS=DT_Unit1@2\\\\tPoS=PRP_Unit1@0\", \"0\\\\tLargest_Subtree_Top_Tag=VBZ_Unit=1@0\\\\tPoS=JJ_Unit2@1\\\\tWord=only_Unit2@1\\\\tLargest_Subtree_Depth=9_Unit=2@1\\\\tLargest_Subtree_Depth=9_Unit=2@2\\\\tLargest_Subtree_Depth=9_Unit=1@2\\\\tLargest_Subtree_Depth=9_Unit=1@1\\\\tLargest_Subtree_Top_Tag=JJ_Unit=2@1\\\\tPoS=DT_Unit2@0\\\\tLargest_Subtree_Production=JJ->only_Unit=2@1\\\\tWord=is_Unit1@0\\\\tLargest_Subtree_Production=NN->singular_Unit=2@2\\\\tLargest_Subtree_Production=JJ->only_Unit=1@2\\\\tPoS=VBZ_Unit1@0\\\\tLargest_Subtree_Top_Tag=JJ_Unit=1@2\\\\tLargest_Subtree_Top_Tag=NP_Unit=2@0\\\\tWord=the_Unit1@1\\\\tLargest_Subtree_Top_Tag=DT_Unit=1@1\\\\tLargest_Subtree_Depth=7_Unit=1@0\\\\tWord=the_Unit2@0\\\\tLargest_Subtree_Production=VBZ->is_Unit=1@0\\\\tPoS=JJ_Unit1@2\\\\tWord=singular_Unit2@2\\\\tLargest_Subtree_Top_Tag=NN_Unit=2@2\\\\tLargest_Subtree_Production=NP->NP#PP_Unit=2@0\\\\tPoS=DT_Unit1@1\\\\tWord=only_Unit1@2\\\\tLargest_Subtree_Production=DT->the_Unit=1@1\\\\tLargest_Subtree_Depth=7_Unit=2@0\\\\tPoS=NN_Unit2@2\", \"0\\\\tWord=singular_Unit2@1\\\\tPoS=NN_Unit1@2\\\\tLargest_Subtree_Depth=9_Unit=2@1\\\\tLargest_Subtree_Depth=9_Unit=2@2\\\\tLargest_Subtree_Top_Tag=JJ_Unit=2@0\\\\tLargest_Subtree_Depth=9_Unit=1@2\\\\tLargest_Subtree_Depth=9_Unit=1@1\\\\tWord=the_Unit1@0\\\\tLargest_Subtree_Production=NN->singular_Unit=1@2\\\\tLargest_Subtree_Production=JJ->only_Unit=2@0\\\\tLargest_Subtree_Top_Tag=JJ_Unit=1@1\\\\tLargest_Subtree_Production=DT->the_Unit=1@0\\\\tWord=singular_Unit1@2\\\\tLargest_Subtree_Depth=9_Unit=2@0\\\\tPoS=DT_Unit1@0\\\\tLargest_Subtree_Production=JJ->only_Unit=1@1\\\\tLargest_Subtree_Top_Tag=NN_Unit=2@1\\\\tLargest_Subtree_Production=NN->singular_Unit=2@1\\\\tPoS=JJ_Unit1@1\\\\tLargest_Subtree_Top_Tag=NN_Unit=1@2\\\\tWord=only_Unit1@1\\\\tLargest_Subtree_Production=NN->neuter_Unit=2@2\\\\tWord=only_Unit2@0\\\\tLargest_Subtree_Top_Tag=NN_Unit=2@2\\\\tPoS=JJ_Unit2@0\\\\tLargest_Subtree_Top_Tag=DT_Unit=1@0\\\\tLargest_Subtree_Depth=9_Unit=1@0\\\\tWord=neuter_Unit2@2\\\\tPoS=NN_Unit2@2\\\\tPoS=NN_Unit2@1\", \"0\\\\tPoS=NN_Unit1@2\\\\tLargest_Subtree_Production=NN->neuter_Unit=2@1\\\\tLargest_Subtree_Depth=9_Unit=2@1\\\\tPoS=JJ_Unit1@0\\\\tLargest_Subtree_Depth=9_Unit=2@2\\\\tLargest_Subtree_Depth=9_Unit=1@2\\\\tLargest_Subtree_Depth=9_Unit=1@1\\\\tLargest_Subtree_Production=NN->singular_Unit=2@0\\\\tWord=singular_Unit2@0\\\\tLargest_Subtree_Production=NN->neuter_Unit=1@2\\\\tLargest_Subtree_Production=NN->pronoun_Unit=2@2\\\\tLargest_Subtree_Depth=9_Unit=2@0\\\\tWord=pronoun_Unit2@2\\\\tWord=singular_Unit1@1\\\\tPoS=NN_Unit2@0\\\\tLargest_Subtree_Top_Tag=NN_Unit=2@1\\\\tLargest_Subtree_Top_Tag=NN_Unit=1@2\\\\tLargest_Subtree_Top_Tag=NN_Unit=1@1\\\\tLargest_Subtree_Top_Tag=JJ_Unit=1@0\\\\tLargest_Subtree_Top_Tag=NN_Unit=2@0\\\\tPoS=NN_Unit1@1\\\\tLargest_Subtree_Production=NN->singular_Unit=1@1\\\\tLargest_Subtree_Top_Tag=NN_Unit=2@2\\\\tWord=only_Unit1@0\\\\tLargest_Subtree_Production=JJ->only_Unit=1@0\\\\tWord=neuter_Unit2@1\\\\tWord=neuter_Unit1@2\\\\tLargest_Subtree_Depth=9_Unit=1@0\\\\tPoS=NN_Unit2@2\\\\tPoS=NN_Unit2@1\", \"0\\\\tPoS=NN_Unit1@2\\\\tLargest_Subtree_Depth=8_Unit=2@2\\\\tLargest_Subtree_Top_Tag=NP_Unit=1@2\\\\tLargest_Subtree_Depth=9_Unit=2@1\\\\tWord=singular_Unit1@0\\\\tPoS=NN_Unit1@0\\\\tLargest_Subtree_Depth=9_Unit=1@1\\\\tLargest_Subtree_Depth=8_Unit=1@2\\\\tLargest_Subtree_Production=NN->neuter_Unit=1@1\\\\tLargest_Subtree_Top_Tag=PP_Unit=2@2\\\\tLargest_Subtree_Production=NN->neuter_Unit=2@0\\\\tLargest_Subtree_Production=NP->DT#JJ#NN#NN#NN_Unit=1@2\\\\tWord=neuter_Unit1@1\\\\tLargest_Subtree_Depth=9_Unit=2@0\\\\tLargest_Subtree_Production=PP->IN#NP_Unit=2@2\\\\tPoS=NN_Unit2@0\\\\tLargest_Subtree_Top_Tag=NN_Unit=2@1\\\\tWord=pronoun_Unit2@1\\\\tWord=pronoun_Unit1@2\\\\tLargest_Subtree_Top_Tag=NN_Unit=1@1\\\\tWord=in_Unit2@2\\\\tWord=neuter_Unit2@0\\\\tLargest_Subtree_Top_Tag=NN_Unit=2@0\\\\tPoS=NN_Unit1@1\\\\tLargest_Subtree_Production=NN->singular_Unit=1@0\\\\tLargest_Subtree_Top_Tag=NN_Unit=1@0\\\\tLargest_Subtree_Depth=9_Unit=1@0\\\\tLargest_Subtree_Production=NN->pronoun_Unit=2@1\\\\tPoS=IN_Unit2@2\\\\tPoS=NN_Unit2@1\", \"0\\\\tWord=in_Unit1@2\\\\tWord=neuter_Unit1@0\\\\tLargest_Subtree_Depth=8_Unit=1@1\\\\tLargest_Subtree_Depth=9_Unit=2@2\\\\tLargest_Subtree_Depth=8_Unit=2@1\\\\tLargest_Subtree_Depth=9_Unit=1@2\\\\tPoS=NN_Unit1@0\\\\tLargest_Subtree_Top_Tag=NP_Unit=2@2\\\\tWord=pronoun_Unit2@0\\\\tLargest_Subtree_Depth=9_Unit=2@0\\\\tWord=our_Unit2@2\\\\tLargest_Subtree_Production=NN->neuter_Unit=1@0\\\\tWord=in_Unit2@1\\\\tWord=pronoun_Unit1@1\\\\tLargest_Subtree_Production=NP->PRP$#NN_Unit=2@2\\\\tPoS=IN_Unit1@2\\\\tPoS=NN_Unit2@0\\\\tPoS=IN_Unit2@1\\\\tLargest_Subtree_Top_Tag=PP_Unit=2@1\\\\tPoS=PRP$_Unit2@2\\\\tLargest_Subtree_Production=NP->DT#JJ#NN#NN#NN_Unit=1@1\\\\tLargest_Subtree_Top_Tag=NN_Unit=2@0\\\\tLargest_Subtree_Top_Tag=NP_Unit=1@1\\\\tLargest_Subtree_Production=IN->in_Unit=1@2\\\\tLargest_Subtree_Top_Tag=NN_Unit=1@0\\\\tLargest_Subtree_Depth=9_Unit=1@0\\\\tLargest_Subtree_Production=NN->pronoun_Unit=2@0\\\\tLargest_Subtree_Production=PP->IN#NP_Unit=2@1\\\\tLargest_Subtree_Top_Tag=IN_Unit=1@2\\\\tPoS=NN_Unit1@1\", \"0\\\\tPoS=IN_Unit2@0\\\\tLargest_Subtree_Depth=9_Unit=2@1\\\\tPoS=NN_Unit1@0\\\\tLargest_Subtree_Depth=9_Unit=1@1\\\\tLargest_Subtree_Production=NP->DT#JJ#NN#NN#NN_Unit=1@0\\\\tLargest_Subtree_Depth=8_Unit=2@0\\\\tWord=in_Unit1@1\\\\tPoS=PRP$_Unit2@1\\\\tLargest_Subtree_Top_Tag=PRP$_Unit=1@2\\\\tWord=in_Unit2@0\\\\tLargest_Subtree_Production=PP->IN#NP_Unit=2@0\\\\tLargest_Subtree_Depth=10_Unit=2@2\\\\tLargest_Subtree_Top_Tag=NP_Unit=1@0\\\\tPoS=IN_Unit1@1\\\\tLargest_Subtree_Top_Tag=PP_Unit=2@0\\\\tWord=our_Unit1@2\\\\tLargest_Subtree_Top_Tag=NP_Unit=2@1\\\\tLargest_Subtree_Depth=8_Unit=1@0\\\\tWord=language_Unit2@2\\\\tLargest_Subtree_Production=PRP$->our_Unit=1@2\\\\tWord=our_Unit2@1\\\\tLargest_Subtree_Production=IN->in_Unit=1@1\\\\tLargest_Subtree_Depth=10_Unit=1@2\\\\tLargest_Subtree_Top_Tag=NN_Unit=2@2\\\\tLargest_Subtree_Top_Tag=IN_Unit=1@1\\\\tLargest_Subtree_Production=NN->language_Unit=2@2\\\\tLargest_Subtree_Production=NP->PRP$#NN_Unit=2@1\\\\tWord=pronoun_Unit1@0\\\\tPoS=PRP$_Unit1@2\\\\tPoS=NN_Unit2@2\", \"0\\\\tPoS=NN_Unit1@2\\\\tWord=._Unit2@2\\\\tLargest_Subtree_Production=VP->VBP#ADJP_Unit=1@2\\\\tWord=in_Unit1@0\\\\tWord=language_Unit2@1\\\\tLargest_Subtree_Top_Tag=VP_Unit=1@2\\\\tPoS=PRP$_Unit1@1\\\\tPoS=PRP$_Unit2@0\\\\tLargest_Subtree_Top_Tag=._Unit=2@2\\\\tWord=our_Unit1@1\\\\tLargest_Subtree_Production=NN->language_Unit=2@1\\\\tPoS=._Unit2@2\\\\tLargest_Subtree_Depth=9_Unit=2@0\\\\tPoS=IN_Unit1@0\\\\tLargest_Subtree_Production=NP->PRP$#NN_Unit=2@0\\\\tLargest_Subtree_Top_Tag=NN_Unit=2@1\\\\tLargest_Subtree_Top_Tag=NP_Unit=2@0\\\\tLargest_Subtree_Top_Tag=IN_Unit=1@0\\\\tWord=language_Unit1@2\\\\tLargest_Subtree_Depth=10_Unit=1@1\\\\tLargest_Subtree_Depth=2_Unit=1@2\\\\tLargest_Subtree_Production=PRP$->our_Unit=1@1\\\\tLargest_Subtree_Depth=2_Unit=2@2\\\\tLargest_Subtree_Production=IN->in_Unit=1@0\\\\tWord=our_Unit2@0\\\\tLargest_Subtree_Depth=10_Unit=2@1\\\\tLargest_Subtree_Depth=9_Unit=1@0\\\\tLargest_Subtree_Top_Tag=PRP$_Unit=1@1\\\\tLargest_Subtree_Production=.->._Unit=2@2\\\\tIs_Sentence_End_Unit2@2\\\\tPoS=NN_Unit2@1\", \"0\\\\tPoS=PRP$_Unit1@0\\\\tWord=._Unit2@1\\\\tPoS=._Unit2@1\\\\tLargest_Subtree_Production=VP->VBP#ADJP_Unit=1@1\\\\tLargest_Subtree_Top_Tag=._Unit=2@1\\\\tIs_Sentence_End_Unit2@1\\\\tLargest_Subtree_Depth=2_Unit=1@1\\\\tLargest_Subtree_Production=PRP$->our_Unit=1@0\\\\tLargest_Subtree_Depth=2_Unit=2@1\\\\tWord=language_Unit2@0\\\\tPoS=NN_Unit2@0\\\\tWord=our_Unit1@0\\\\tWord=language_Unit1@1\\\\tLargest_Subtree_Depth=10_Unit=1@0\\\\tLargest_Subtree_Depth=10_Unit=2@0\\\\tLargest_Subtree_Production=NN->language_Unit=2@0\\\\tLargest_Subtree_Top_Tag=NN_Unit=2@0\\\\tLargest_Subtree_Production=.->._Unit=2@1\\\\tLargest_Subtree_Top_Tag=PRP$_Unit=1@0\\\\tLargest_Subtree_Top_Tag=VP_Unit=1@1\\\\tPoS=NN_Unit1@1\"]')"
   ]
  },
  {
   "cell_type": "code",
   "execution_count": 252,
   "metadata": {
    "ExecuteTime": {
     "end_time": "2020-12-05T09:20:20.161149Z",
     "start_time": "2020-12-05T09:20:20.129260Z"
    }
   },
   "outputs": [
    {
     "data": {
      "text/plain": [
       "2503"
      ]
     },
     "execution_count": 252,
     "metadata": {},
     "output_type": "execute_result"
    }
   ],
   "source": [
    "#classifier.stdin.write(('\\n'.join([\"this what you\", \"whats good boy\"]) + \"\\n\\n\").encode())\n",
    "classifier.stdin.write(('\\n'.join(vectors[:3]) + \"\\n\\n\").encode())"
   ]
  },
  {
   "cell_type": "code",
   "execution_count": 253,
   "metadata": {
    "ExecuteTime": {
     "end_time": "2020-12-05T09:20:27.598950Z",
     "start_time": "2020-12-05T09:20:27.572811Z"
    }
   },
   "outputs": [
    {
     "data": {
      "text/plain": [
       "b\"'C:\\\\Users\\\\Rilwa\\\\01_Mcv\\\\MasteringConversation\\\\rl_conv\\\\pretrain\\\\RST_FH\\\\tools\\\\crfsuite\\\\crfsuite-stdin' is not recognized as an internal or external command,\\r\\n\""
      ]
     },
     "execution_count": 253,
     "metadata": {},
     "output_type": "execute_result"
    }
   ],
   "source": [
    "classifier.poll()\n",
    "classifier.stderr.readline()"
   ]
  },
  {
   "cell_type": "code",
   "execution_count": 239,
   "metadata": {
    "ExecuteTime": {
     "end_time": "2020-12-05T08:59:27.637883Z",
     "start_time": "2020-12-05T08:59:27.613872Z"
    }
   },
   "outputs": [
    {
     "ename": "OSError",
     "evalue": "[Errno 22] Invalid argument",
     "output_type": "error",
     "traceback": [
      "\u001b[1;31m---------------------------------------------------------------------------\u001b[0m",
      "\u001b[1;31mOSError\u001b[0m                                   Traceback (most recent call last)",
      "\u001b[1;32m<ipython-input-239-5a372e568119>\u001b[0m in \u001b[0;36m<module>\u001b[1;34m\u001b[0m\n\u001b[1;32m----> 1\u001b[1;33m \u001b[0mclassifier\u001b[0m\u001b[1;33m.\u001b[0m\u001b[0mstdin\u001b[0m\u001b[1;33m.\u001b[0m\u001b[0mclose\u001b[0m\u001b[1;33m(\u001b[0m\u001b[1;33m)\u001b[0m\u001b[1;33m\u001b[0m\u001b[1;33m\u001b[0m\u001b[0m\n\u001b[0m",
      "\u001b[1;31mOSError\u001b[0m: [Errno 22] Invalid argument"
     ]
    }
   ],
   "source": [
    "classifier.stdin.close()"
   ]
  },
  {
   "cell_type": "code",
   "execution_count": null,
   "metadata": {},
   "outputs": [],
   "source": [
    "lines = [l.decode('utf-8') for l in classifier.stdout.readlines()]"
   ]
  },
  {
   "cell_type": "code",
   "execution_count": null,
   "metadata": {},
   "outputs": [],
   "source": []
  },
  {
   "cell_type": "code",
   "execution_count": 199,
   "metadata": {
    "ExecuteTime": {
     "end_time": "2020-12-05T08:06:27.190553Z",
     "start_time": "2020-12-05T08:06:27.166134Z"
    }
   },
   "outputs": [
    {
     "data": {
      "text/plain": [
       "8192"
      ]
     },
     "execution_count": 199,
     "metadata": {},
     "output_type": "execute_result"
    }
   ],
   "source": [
    "import io\n",
    "import sys\n",
    "io.DEFAULT_BUFFER_SIZE"
   ]
  },
  {
   "cell_type": "code",
   "execution_count": 203,
   "metadata": {
    "ExecuteTime": {
     "end_time": "2020-12-05T08:07:18.857558Z",
     "start_time": "2020-12-05T08:07:18.829806Z"
    }
   },
   "outputs": [
    {
     "data": {
      "text/plain": [
       "8839"
      ]
     },
     "execution_count": 203,
     "metadata": {},
     "output_type": "execute_result"
    }
   ],
   "source": [
    "sys.getsizeof(('\\n'.join(vectors[:10]) + \"\\n\\n\").encode())"
   ]
  }
 ],
 "metadata": {
  "kernelspec": {
   "display_name": "mconv",
   "language": "python",
   "name": "mconv"
  },
  "language_info": {
   "codemirror_mode": {
    "name": "ipython",
    "version": 3
   },
   "file_extension": ".py",
   "mimetype": "text/x-python",
   "name": "python",
   "nbconvert_exporter": "python",
   "pygments_lexer": "ipython3",
   "version": "3.8.3"
  }
 },
 "nbformat": 4,
 "nbformat_minor": 2
}
